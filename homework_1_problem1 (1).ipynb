{
  "nbformat": 4,
  "nbformat_minor": 0,
  "metadata": {
    "colab": {
      "name": "homework_1_problem1.ipynb",
      "provenance": [],
      "collapsed_sections": []
    },
    "kernelspec": {
      "name": "python3",
      "display_name": "Python 3"
    }
  },
  "cells": [
    {
      "cell_type": "markdown",
      "metadata": {
        "id": "kOZyaVEM15yJ"
      },
      "source": [
        "# MATH 4650 Homework 1 - Mathieu Foucher\n"
      ]
    },
    {
      "cell_type": "code",
      "metadata": {
        "id": "Q5eiQy7g1o5P"
      },
      "source": [
        "import numpy as np\n",
        "import math\n",
        "import matplotlib.pyplot as plt\n",
        "import sympy as sym\n",
        "from sympy import init_printing\n",
        "init_printing()\n"
      ],
      "execution_count": null,
      "outputs": []
    },
    {
      "cell_type": "markdown",
      "metadata": {
        "id": "uwTk-xZmpmOZ"
      },
      "source": [
        "## Problem 1 - Part a)"
      ]
    },
    {
      "cell_type": "markdown",
      "metadata": {
        "id": "DM1QsXjCa5Yf"
      },
      "source": [
        "Part i: Naive Evaluation of the polynomial using: \n",
        "\n",
        "```\n",
        "np.poly1d()\n",
        "```\n",
        "\n"
      ]
    },
    {
      "cell_type": "code",
      "metadata": {
        "id": "k5RXFnXlpESG",
        "colab": {
          "base_uri": "https://localhost:8080/",
          "height": 276
        },
        "outputId": "3cc73d16-d3a1-44a8-9f7b-84de4ba9d0e2"
      },
      "source": [
        "# Part i:\n",
        "\n",
        "# Polynomial Naive Evaluation:\n",
        "\n",
        "p_1 = np.poly1d([2,2,2,2,2,2,2,2,2], True)\n",
        "\n",
        "x_1 = np.arange(1.92, 2.08, 0.001)\n",
        "\n",
        "# Putting the values from naive evaluation into the list x_1:\n",
        "y_1 = list()\n",
        "\n",
        "for i in np.arange(1.92, 2.08, 0.001):\n",
        "  y_1.append(p_1(i))\n",
        "\n",
        "plot1 = plt.scatter(x_1, y_1, color = \"orange\" )"
      ],
      "execution_count": null,
      "outputs": [
        {
          "output_type": "display_data",
          "data": {
            "image/png": "[encoded data removed]",
            "text/plain": [
              "<Figure size 432x288 with 1 Axes>"
            ]
          },
          "metadata": {
            "tags": [],
            "needs_background": "light"
          }
        }
      ]
    },
    {
      "cell_type": "markdown",
      "metadata": {
        "id": "txXub2VKbE45"
      },
      "source": [
        "Part ii: Using the compact form $p(x) = (x-2)^{9}$:"
      ]
    },
    {
      "cell_type": "code",
      "metadata": {
        "id": "cg61kp8spHv0",
        "colab": {
          "base_uri": "https://localhost:8080/",
          "height": 276
        },
        "outputId": "4df6254a-e937-4544-a15c-1f0c555e31ca"
      },
      "source": [
        "# Part ii:\n",
        "\n",
        "# Using the compact form:\n",
        "\n",
        "def p(x):\n",
        "    return (x - 2)**9\n",
        "\n",
        "# Plotting the polynomial with 100 equispaced points:\n",
        "\n",
        "x_2 = np.arange(1.92, 2.08, 0.001)\n",
        "\n",
        "plot2 = plt.scatter(x_2, p(x_2), color = \"blue\")\n",
        "\n"
      ],
      "execution_count": null,
      "outputs": [
        {
          "output_type": "display_data",
          "data": {
            "image/png": "[encoded data removed]",
            "text/plain": [
              "<Figure size 432x288 with 1 Axes>"
            ]
          },
          "metadata": {
            "tags": [],
            "needs_background": "light"
          }
        }
      ]
    },
    {
      "cell_type": "markdown",
      "metadata": {
        "id": "thHSXN-cbPi7"
      },
      "source": [
        "Part iii: Implementation of Horner's Rule:"
      ]
    },
    {
      "cell_type": "code",
      "metadata": {
        "id": "P6Ar-4AvroRn",
        "colab": {
          "base_uri": "https://localhost:8080/",
          "height": 276
        },
        "outputId": "6b5c73c5-43a8-4d40-ec9d-a147a7ee699d"
      },
      "source": [
        "# Part iii:\n",
        "x_3 = np.arange(1.92, 2.08, 0.001)\n",
        "\n",
        "# Implement Horner's Rule:\n",
        "\n",
        "# Range for plotting Horner's rule algorithm data:\n",
        "\n",
        "arr = p_1.c\n",
        "\n",
        "# Definition of Horner's Rule as a function:\n",
        "def hornersRule(A,x):\n",
        "  val = A[0]\n",
        "  i = 1\n",
        "  while len(A) > i:\n",
        "    val = val * x + A[i]\n",
        "    i +=1\n",
        "  return val\n",
        "\n",
        "plot3 = plt.scatter(x_3, hornersRule(arr, x_3), color = \"green\")\n"
      ],
      "execution_count": null,
      "outputs": [
        {
          "output_type": "display_data",
          "data": {
            "image/png": "[encoded data removed]",
            "text/plain": [
              "<Figure size 432x288 with 1 Axes>"
            ]
          },
          "metadata": {
            "tags": [],
            "needs_background": "light"
          }
        }
      ]
    },
    {
      "cell_type": "markdown",
      "metadata": {
        "id": "-qOmMiPnbUzp"
      },
      "source": [
        "Part iv: Using the python function\n",
        "\n",
        "\n",
        "```\n",
        "np.polyval()\n",
        "```\n",
        "\n"
      ]
    },
    {
      "cell_type": "code",
      "metadata": {
        "id": "6SfyjYo7YDXI",
        "colab": {
          "base_uri": "https://localhost:8080/",
          "height": 276
        },
        "outputId": "90ce19d3-724f-45b9-b8f2-7bb089286ac0"
      },
      "source": [
        "# Part iv:\n",
        "\n",
        "# Using software library:\n",
        "\n",
        "y_3 = list()\n",
        "x_4 = np.arange(1.92, 2.08, 0.001)\n",
        "\n",
        "plot4 = plt.scatter(x_4, np.polyval(arr, x_4), color = \"magenta\")"
      ],
      "execution_count": null,
      "outputs": [
        {
          "output_type": "display_data",
          "data": {
            "image/png": "[encoded data removed]",
            "text/plain": [
              "<Figure size 432x288 with 1 Axes>"
            ]
          },
          "metadata": {
            "tags": [],
            "needs_background": "light"
          }
        }
      ]
    },
    {
      "cell_type": "code",
      "metadata": {
        "id": "xiPcXslDpUt-",
        "colab": {
          "base_uri": "https://localhost:8080/",
          "height": 298
        },
        "outputId": "50968025-af79-4b93-d90d-dcf8094d05ee"
      },
      "source": [
        "# Output of Problem 1:\n",
        "\n",
        "plot1 = plt.scatter(x_1, y_1, color = \"red\", alpha = 0.2 )\n",
        "plot2 = plt.scatter(x_2, p(x_2), color = \"blue\", alpha = 0.1)\n",
        "plot3 = plt.scatter(x_3, hornersRule(arr, x_3), color = \"green\", alpha = 0.2)\n",
        "plot4 = plt.scatter(x_4, np.polyval(arr, x_4), color = \"magenta\", alpha = 0.1)\n",
        "plt.title(\"Scatter Plot of 4 Algorithms.\")\n",
        "\n"
      ],
      "execution_count": null,
      "outputs": [
        {
          "output_type": "execute_result",
          "data": {
            "text/plain": [
              "Text(0.5, 1.0, 'Scatter Plot of 4 Algorithms.')"
            ]
          },
          "metadata": {
            "tags": []
          },
          "execution_count": 83
        },
        {
          "output_type": "display_data",
          "data": {
            "image/png": "[encoded data removed]",
            "text/plain": [
              "<Figure size 432x288 with 1 Axes>"
            ]
          },
          "metadata": {
            "tags": [],
            "needs_background": "light"
          }
        }
      ]
    },
    {
      "cell_type": "markdown",
      "metadata": {
        "id": "n8HRkK-jZ8zH"
      },
      "source": [
        "# Problem 1 - Part b)\n",
        "\n",
        "In plotting the 4 different algorithms' results we can clearly tell that the most precise is the compact form that is $p(x) = (x-2)^{9}$. The three other algorithms appear to have the same precision, although we know from lecture that Horner's rule is the most efficient in flops. Sources of numerical error for the other algorithms are most definitely due to the number of flops, especially in the case of naive plotting of the values of $p(x)$.\n"
      ]
    },
    {
      "cell_type": "markdown",
      "metadata": {
        "id": "v25_Sy7OrK1k"
      },
      "source": [
        "## Problem 2 - Loss of Significance\n"
      ]
    },
    {
      "cell_type": "markdown",
      "metadata": {
        "id": "M9dVGejlrVh7"
      },
      "source": [
        "### Part a) \n",
        "_Rewrite $f(x) = \\sqrt{x+1} - 1$ to avoid cancellation when $x\\approx 0$._\n",
        "\n",
        "$\\underline{Solution:}$ We may rewrite $f(x)$ by multiplying by the conjugate divided by the conjugate in the following manner:\n",
        "\n",
        "$f(x) = \\sqrt{x+1} - 1 = \\sqrt{x+1} - 1 \\cdot \\tfrac{\\sqrt{x+1} + 1}{\\sqrt{x+1} + 1} = \\frac{(\\sqrt{x+1} - 1)(\\sqrt{x+1} + 1)}{\\sqrt{x+1} + 1} = \\frac{x}{\\sqrt{x+1} + 1}$\n",
        "\n",
        "We can now see that cancellation is now avoided as the quantity $\\sqrt(x+1) - 1$ is no longer present."
      ]
    },
    {
      "cell_type": "markdown",
      "metadata": {
        "id": "IgmdvHcIuSsI"
      },
      "source": [
        "### Part b)\n",
        "_Rewrite $f(x) = sin(2(x + a) - sin(2a)$ to avoid cancellation where $x\\approx a$._\n",
        "\n",
        "$\\underline{Solution}$ Using the trig identity $sin(2x) = 2cos(x)sin(x)$, we may obtain the formula:\n",
        "\n",
        "$sin(2(x + a)) - sin(2a) = 2cos(x + a)sin(x + a) - 2cos(a)sin(a) = 2cos(x+2a)sin(x)$ \n",
        "\n",
        "Here cancellation is avoided, since we have prevented the subtraction of $x$ and $a$ altogether."
      ]
    },
    {
      "cell_type": "markdown",
      "metadata": {
        "id": "e_0M5RIJUtLH"
      },
      "source": [
        "## Problem 3 - The Sequence Problem"
      ]
    },
    {
      "cell_type": "markdown",
      "metadata": {
        "id": "AEokybX-Xj0_"
      },
      "source": [
        "### Part a) \n",
        "\n",
        "Suppose a sequence $x_n$ has the form:\n",
        "\n",
        "$(x_n) = C\\cdot n^{-\\alpha}$\n",
        "\n",
        "for constants $C, \\alpha$. What kind of scaling on the axes would be required for the terms of the sequence to form a straight line?"
      ]
    },
    {
      "cell_type": "markdown",
      "metadata": {
        "id": "APMwyAsvcAhd"
      },
      "source": [
        "$\\underline{Solution:}$ Algebraically, we may think of $x_n$ as the $y$ axis and $n$ as the $x$ axis. We may then rearrange the sequence written in the following form:\n",
        "\n",
        "$y = C\\cdot x^{-\\alpha}$\n",
        "\n",
        "The answer to our question is that both the output axis and the input axis will have to be on a logarithmic scale, giving us what is known as a \"log-log\" graph. This is because the terms of the sequence are determined by a monomial expression.\n",
        "\n",
        "We may rewrite the expression using the natural logarithm:\n",
        "\n",
        "$ln(y) = ln(C\\cdot x^{-\\alpha}) \\to ln(y) = (-\\alpha)ln(x) + ln(C)$\n",
        "\n",
        "Squinting our eyes a bit, this new equation looks a lot like $y=mx + b$, which we may recognize as the equation for straight lines the plane. Below we will see an example of a log-log plot and a plot of the sequence for some arbitrary choices of $(C, \\alpha)$ in the plane with no axis scaling:"
      ]
    },
    {
      "cell_type": "code",
      "metadata": {
        "id": "vpkOhmMwjJA2",
        "colab": {
          "base_uri": "https://localhost:8080/",
          "height": 298
        },
        "outputId": "03c83343-f8c5-40c9-9f48-14bd805e0a06"
      },
      "source": [
        "# Definition of the sequence:\n",
        "\n",
        "def seq1(C, a, n):\n",
        "  return C * n**(- a)\n",
        "\n",
        "axis = np.arange(0.1,10.1,1)\n",
        "\n",
        "# Arbitrary selections of the given sequence:\n",
        "p1 = plt.scatter(axis, seq1(0.9, -1, axis), color = \"red\")\n",
        "p2 = plt.scatter(axis, seq1(2.2, 0.8, axis), color = \"blue\")\n",
        "p3 = plt.scatter(axis, seq1(-1.3,1.3, axis), color = \"green\")\n",
        "plt.title(\"Sequence x_n evaluated in the plane\")\n"
      ],
      "execution_count": null,
      "outputs": [
        {
          "output_type": "execute_result",
          "data": {
            "text/plain": [
              "Text(0.5, 1.0, 'Sequence x_n evaluated in the plane')"
            ]
          },
          "metadata": {
            "tags": []
          },
          "execution_count": 7
        },
        {
          "output_type": "display_data",
          "data": {
            "image/png": "[encoded data removed]",
            "text/plain": [
              "<Figure size 432x288 with 1 Axes>"
            ]
          },
          "metadata": {
            "tags": [],
            "needs_background": "light"
          }
        }
      ]
    },
    {
      "cell_type": "code",
      "metadata": {
        "id": "4tC9Lr1K7oGg",
        "colab": {
          "base_uri": "https://localhost:8080/",
          "height": 302
        },
        "outputId": "2f4e2bcf-ef59-4fe1-b94d-7565bb3bb514"
      },
      "source": [
        "# The log-log plot:\n",
        "\n",
        "p1 = plt.scatter(axis, seq1(0.9, -1, axis), color = \"red\")\n",
        "p2 = plt.scatter(axis, seq1(2.2, 0.8, axis), color = \"blue\")\n",
        "p3 = plt.scatter(axis, seq1(-1.3,1.3, axis), color = \"green\")\n",
        "\n",
        "plt.yscale('log')\n",
        "plt.xscale('log')\n",
        "plt.title(\"Sequence x_n on log-log plot\")"
      ],
      "execution_count": null,
      "outputs": [
        {
          "output_type": "execute_result",
          "data": {
            "text/plain": [
              "Text(0.5, 1.0, 'Sequence x_n on log-log plot')"
            ]
          },
          "metadata": {
            "tags": []
          },
          "execution_count": 8
        },
        {
          "output_type": "display_data",
          "data": {
            "image/png": "[encoded data removed]",
            "text/plain": [
              "<Figure size 432x288 with 1 Axes>"
            ]
          },
          "metadata": {
            "tags": [],
            "needs_background": "light"
          }
        }
      ]
    },
    {
      "cell_type": "markdown",
      "metadata": {
        "id": "rS7MpQQt8do3"
      },
      "source": [
        "The data looks kind of messed up, and I apologize. If you take a ruler to any two points of the same color, however, the ruler will have the rest of the points of the same color along it's edge (my definition of straightness)."
      ]
    },
    {
      "cell_type": "markdown",
      "metadata": {
        "id": "hTlacHV1ginL"
      },
      "source": [
        "### Part b)\n",
        "\n",
        "Repeat part a), but for the sequence:\n",
        "\n",
        "$x_n = D\\cdot \\rho^{n}$\n",
        "\n",
        "where $D, \\rho$ are constants and $\\rho < 1$.\n",
        "\n",
        "$\\underline{Solution:}$ Similarly to part a), we can algebraically rearrange the sequence to find the inverse, which is accomplished in the following steps:\n",
        "\n",
        "$y = D\\cdot \\rho^{n} \\longrightarrow \\frac{y}{D} = \\rho^{n} \\longrightarrow log(\\frac{y}{D}) = n\\cdot log(\\rho) \\longrightarrow log(\\frac{y}{D} - \\rho) = n$.\n",
        "\n",
        "thus we can see that we must apply a scaling to the axis of outputs logarithmically, and only this axis since our sequence is expressed by an exponential:"
      ]
    },
    {
      "cell_type": "code",
      "metadata": {
        "id": "91Ia9vg2hdFD",
        "colab": {
          "base_uri": "https://localhost:8080/",
          "height": 265
        },
        "outputId": "50373a40-fb75-496f-fa7b-60589f72c269"
      },
      "source": [
        "# Definition of part b) sequence:\n",
        "\n",
        "def seq2(D, r, n):\n",
        "  assert r < 1.0\n",
        "  return D*r**(n)\n",
        "\n",
        "inputAxis = np.arange(0.1, 10.1, 1)\n",
        "\n",
        "# Different choices for D and r based on constraints:\n",
        "plotb1 = plt.scatter(inputAxis, seq2(2.0, 0.1, inputAxis), color = \"red\")\n",
        "plotb2 = plt.scatter(inputAxis, seq2(0.1, 0.4, inputAxis), color = \"blue\")\n",
        "plotb3 = plt.scatter(inputAxis, seq2(4.4, 0.7, inputAxis), color = \"green\")"
      ],
      "execution_count": null,
      "outputs": [
        {
          "output_type": "display_data",
          "data": {
            "image/png": "[encoded data removed]",
            "text/plain": [
              "<Figure size 432x288 with 1 Axes>"
            ]
          },
          "metadata": {
            "tags": [],
            "needs_background": "light"
          }
        }
      ]
    },
    {
      "cell_type": "code",
      "metadata": {
        "id": "8dlUDdqv_3XK",
        "colab": {
          "base_uri": "https://localhost:8080/",
          "height": 265
        },
        "outputId": "4161ebca-f82d-4b9a-d2e6-c0c18e844902"
      },
      "source": [
        "# Plotting with logarithmic rescaling:\n",
        "plotb1 = plt.scatter(inputAxis, seq2(2.0, 0.1, inputAxis), color = \"red\")\n",
        "plotb2 = plt.scatter(inputAxis, seq2(0.1, 0.4, inputAxis), color = \"blue\")\n",
        "plotb3 = plt.scatter(inputAxis, seq2(4.4, 0.7, inputAxis), color = \"green\")\n",
        "\n",
        "plt.yscale('log')"
      ],
      "execution_count": null,
      "outputs": [
        {
          "output_type": "display_data",
          "data": {
            "image/png": "[encoded data removed]",
            "text/plain": [
              "<Figure size 432x288 with 1 Axes>"
            ]
          },
          "metadata": {
            "tags": [],
            "needs_background": "light"
          }
        }
      ]
    },
    {
      "cell_type": "markdown",
      "metadata": {
        "id": "k9L9iocvBEoM"
      },
      "source": [
        "### Part c) \n",
        "\n",
        "Estimate whether the sequence, from the given terms $5.600, 4.4800, 3.5840, 2.8672, 2.2938, 1.8350, 1.4680, 1.1744, 0.9395, 0.7516$ converges superlinearly, linearly, or quadratically; explain why you think so.\n",
        "\n",
        "$\\underline{Solution:}$ \n"
      ]
    },
    {
      "cell_type": "markdown",
      "metadata": {
        "id": "KI5hayzrK2Bi"
      },
      "source": [
        "In order to make an esimation on the nature of this sequence, lets go ahead and plot these points. We are given the information that these are the first ten terms of the sequence, in general, a sequence is a function from the natural numbers to the real numbers, so thus we will assume $(1, 5.600)$ is a point, $(2, 4.4800)$ is also a point, and so on:"
      ]
    },
    {
      "cell_type": "code",
      "metadata": {
        "id": "H5vykNILIteG",
        "colab": {
          "base_uri": "https://localhost:8080/",
          "height": 298
        },
        "outputId": "c206a019-1a37-4364-8279-ff245d4973ce"
      },
      "source": [
        "# Plotting the values of the sequence:\n",
        "\n",
        "xlist = np.arange(1,11,1)\n",
        "ylist = [5.600, 4.4800, 3.5840, 2.8672, 2.2938, 1.8350, 1.4680, 1.1744, 0.9395, 0.7516]\n",
        "\n",
        "numberPlot = plt.scatter(xlist, ylist, color = \"red\")\n",
        "plt.title(\"Given Points - First Ten Sequence Terms\")"
      ],
      "execution_count": null,
      "outputs": [
        {
          "output_type": "execute_result",
          "data": {
            "text/plain": [
              "Text(0.5, 1.0, 'Given Points - First Ten Sequence Terms')"
            ]
          },
          "metadata": {
            "tags": []
          },
          "execution_count": 11
        },
        {
          "output_type": "display_data",
          "data": {
            "image/png": "[encoded data removed]",
            "text/plain": [
              "<Figure size 432x288 with 1 Axes>"
            ]
          },
          "metadata": {
            "tags": [],
            "needs_background": "light"
          }
        }
      ]
    },
    {
      "cell_type": "markdown",
      "metadata": {
        "id": "MNs0LOp4UVE7"
      },
      "source": [
        "Now that we have the first ten terms nicely lined up on a plot, we can try to see if the data forms a striaght line with both plots scaled by $ln()$, or with just the output plot. Why? This will tell us quickly if the sequence can be of the form of the sequences from part a) or part b):\n",
        "\n"
      ]
    },
    {
      "cell_type": "code",
      "metadata": {
        "id": "iimjv96OaCnq",
        "colab": {
          "base_uri": "https://localhost:8080/",
          "height": 302
        },
        "outputId": "8313195a-beaa-4255-8e40-efa02a947e9f"
      },
      "source": [
        "# Trying Both Axes Scaled Logarithmically:\n",
        "\n",
        "numberPlot = plt.scatter(xlist, ylist, color = \"red\")\n",
        "plt.xscale('log')\n",
        "plt.yscale('log')\n",
        "plt.title(\"Ten Terms with log Scaling on BOTH Axes\")"
      ],
      "execution_count": null,
      "outputs": [
        {
          "output_type": "execute_result",
          "data": {
            "text/plain": [
              "Text(0.5, 1.0, 'Ten Terms with log Scaling on BOTH Axes')"
            ]
          },
          "metadata": {
            "tags": []
          },
          "execution_count": 12
        },
        {
          "output_type": "display_data",
          "data": {
            "image/png": "[encoded data removed]",
            "text/plain": [
              "<Figure size 432x288 with 1 Axes>"
            ]
          },
          "metadata": {
            "tags": [],
            "needs_background": "light"
          }
        }
      ]
    },
    {
      "cell_type": "markdown",
      "metadata": {
        "id": "bo86q617abOW"
      },
      "source": [
        "AHA! Gotcha! Looks as though our ten points couldn't possibly be the first sequence, but now if we try the sequence from part b):"
      ]
    },
    {
      "cell_type": "code",
      "metadata": {
        "id": "LzQQXTNYalZv",
        "colab": {
          "base_uri": "https://localhost:8080/",
          "height": 298
        },
        "outputId": "f8523300-6ac5-45db-fdb6-a7dee4deb58c"
      },
      "source": [
        "# Trying Just the y-axis:\n",
        "\n",
        "numberPlot = plt.scatter(xlist, ylist, color = \"red\")\n",
        "plt.yscale('log')\n",
        "plt.title(\"Ten Terms with log Scaling on OUTPUT Axis\")"
      ],
      "execution_count": null,
      "outputs": [
        {
          "output_type": "execute_result",
          "data": {
            "text/plain": [
              "Text(0.5, 1.0, 'Ten Terms with log Scaling on OUTPUT Axis')"
            ]
          },
          "metadata": {
            "tags": []
          },
          "execution_count": 13
        },
        {
          "output_type": "display_data",
          "data": {
            "image/png": "[encoded data removed]",
            "text/plain": [
              "<Figure size 432x288 with 1 Axes>"
            ]
          },
          "metadata": {
            "tags": [],
            "needs_background": "light"
          }
        }
      ]
    },
    {
      "cell_type": "markdown",
      "metadata": {
        "id": "AYEcvaPTa_YX"
      },
      "source": [
        "Great! It appears that the ten points will most definitely be from a sequence of the form of that in part b). To find the values of $D$ and $\\rho$, we can use the fact that $x_n = D\\cdot \\rho^{n}$ on this semilog plot becomes $log(x_n) = log(D) + x\\cdot log(\\rho)$ (here the base of log is 10):\n"
      ]
    },
    {
      "cell_type": "code",
      "metadata": {
        "id": "i9Uilh1hb1Q5",
        "colab": {
          "base_uri": "https://localhost:8080/",
          "height": 221
        },
        "outputId": "4afa9b25-a6f9-43af-97c2-4b4d7c211791"
      },
      "source": [
        "# Find values of D and r:\n",
        "\n",
        "r0 = 10**((np.log10(4.48) - np.log10(5.6))/(1.0))\n",
        "print(r0)\n",
        "D0 = 10**(np.log10(4.48) - 2.0 * np.log10(r0))\n",
        "\n",
        "# Now we print the sequence to verify:\n",
        "for i in range(1,11,1):\n",
        "  print(seq2(D0, r0, i))\n",
        "\n",
        "print(\"D =\", D0, \"r =\", r0)"
      ],
      "execution_count": null,
      "outputs": [
        {
          "output_type": "stream",
          "text": [
            "0.7999999999999999\n",
            "5.6000000000000005\n",
            "4.48\n",
            "3.584\n",
            "2.8671999999999995\n",
            "2.29376\n",
            "1.8350079999999995\n",
            "1.4680063999999995\n",
            "1.1744051199999996\n",
            "0.9395240959999995\n",
            "0.7516192767999995\n",
            "D = 7.000000000000002 r = 0.7999999999999999\n"
          ],
          "name": "stdout"
        }
      ]
    },
    {
      "cell_type": "markdown",
      "metadata": {
        "id": "6BDDiBhtLmwp"
      },
      "source": [
        "We can see that our results for $D$ and $\\rho$ are approximately $7$ and $0.8$ respectively. Given the sequence terms, let us compute the expression $lim_{k\\to \\infty} |\\frac{x_{k+1} - L}{x_{k} - L}|$ to determine the rate of convergence:\n",
        "\n",
        "$lim_{k\\to \\infty} |\\frac{x_{k+1} - L}{x_{k} - L}| = lim_{k\\to \\infty} |\\frac{7\\cdot (0.8)^{k+1}}{7\\cdot (0.8)^{k}}| = lim_{k\\to \\infty} |0.8| = 0.8$\n",
        "\n",
        "By our given definitions of convergence rates, since $0.8 \\in (0,1)$ we have that the sequence converges _linearly_ to zero."
      ]
    },
    {
      "cell_type": "markdown",
      "metadata": {
        "id": "B2-1Ztf4KG98"
      },
      "source": [
        "### Part d)\n",
        "\n",
        "Repeat part c) but for the following sequence: $3.0000, 1.0607, 0.5774, 0.3750, 0.2683, 0.2041, 0.1620, 0.1326, 0.1111, 0.0949$"
      ]
    },
    {
      "cell_type": "markdown",
      "metadata": {
        "id": "d_JHW1BqMlDz"
      },
      "source": [
        "$\\underline{Solution:}$"
      ]
    },
    {
      "cell_type": "markdown",
      "metadata": {
        "id": "ApIrzvzPMouH"
      },
      "source": [
        "As in part c), we will plot these points:"
      ]
    },
    {
      "cell_type": "code",
      "metadata": {
        "id": "FUJ3MxUKMywj",
        "colab": {
          "base_uri": "https://localhost:8080/",
          "height": 298
        },
        "outputId": "fb1cd0b8-e74a-45ab-c68f-852dafdb0c5c"
      },
      "source": [
        "# Plotting part d) points:\n",
        "\n",
        "xlist = np.arange(1,11,1)\n",
        "ylist = [3.0000, 1.0607, 0.5774, 0.3750, 0.2683, 0.2041, 0.1620, 0.1326, 0.1111, 0.0949]\n",
        "\n",
        "numberPlot2 = plt.scatter(xlist, ylist, color = \"blue\")\n",
        "plt.title(\"Part d) Given Sequence\")"
      ],
      "execution_count": null,
      "outputs": [
        {
          "output_type": "execute_result",
          "data": {
            "text/plain": [
              "Text(0.5, 1.0, 'Part d) Given Sequence')"
            ]
          },
          "metadata": {
            "tags": []
          },
          "execution_count": 15
        },
        {
          "output_type": "display_data",
          "data": {
            "image/png": "[encoded data removed]",
            "text/plain": [
              "<Figure size 432x288 with 1 Axes>"
            ]
          },
          "metadata": {
            "tags": [],
            "needs_background": "light"
          }
        }
      ]
    },
    {
      "cell_type": "markdown",
      "metadata": {
        "id": "hbybz6o0NShs"
      },
      "source": [
        "Let us again compare plots with log scaling on just the output axis and on both axes:"
      ]
    },
    {
      "cell_type": "code",
      "metadata": {
        "id": "lRKpfTNnNcyo",
        "colab": {
          "base_uri": "https://localhost:8080/",
          "height": 298
        },
        "outputId": "6f102efe-1df3-45ee-f3e0-3dd578afb12d"
      },
      "source": [
        "# Log scaling on just the output axis:\n",
        "\n",
        "numberPlot2 = plt.scatter(xlist, ylist, color = \"blue\")\n",
        "plt.yscale('log')\n",
        "plt.title(\"Part d) Given Sequence - Log scaled output\")"
      ],
      "execution_count": null,
      "outputs": [
        {
          "output_type": "execute_result",
          "data": {
            "text/plain": [
              "Text(0.5, 1.0, 'Part d) Given Sequence - Log scaled output')"
            ]
          },
          "metadata": {
            "tags": []
          },
          "execution_count": 16
        },
        {
          "output_type": "display_data",
          "data": {
            "image/png": "[encoded data removed]",
            "text/plain": [
              "<Figure size 432x288 with 1 Axes>"
            ]
          },
          "metadata": {
            "tags": [],
            "needs_background": "light"
          }
        }
      ]
    },
    {
      "cell_type": "code",
      "metadata": {
        "id": "T3DPhqxiNqrX",
        "colab": {
          "base_uri": "https://localhost:8080/",
          "height": 302
        },
        "outputId": "2b926389-0cc1-4d92-8bed-98e1f0e2da3b"
      },
      "source": [
        "# Log scaling on both axes:\n",
        "\n",
        "numberPlot2 = plt.scatter(xlist, ylist, color = \"blue\")\n",
        "plt.xscale('log')\n",
        "plt.yscale('log')\n",
        "plt.title(\"Part d) Given Sequence - log-log\")"
      ],
      "execution_count": null,
      "outputs": [
        {
          "output_type": "execute_result",
          "data": {
            "text/plain": [
              "Text(0.5, 1.0, 'Part d) Given Sequence - log-log')"
            ]
          },
          "metadata": {
            "tags": []
          },
          "execution_count": 17
        },
        {
          "output_type": "display_data",
          "data": {
            "image/png": "[encoded data removed]",
            "text/plain": [
              "<Figure size 432x288 with 1 Axes>"
            ]
          },
          "metadata": {
            "tags": [],
            "needs_background": "light"
          }
        }
      ]
    },
    {
      "cell_type": "markdown",
      "metadata": {
        "id": "6FhkC4otN-ev"
      },
      "source": [
        "We can now see that the sequence in part d) is of the form of the sequence from part a). So we can again use the log formulas to find the values of $C$ and $\\alpha$:"
      ]
    },
    {
      "cell_type": "code",
      "metadata": {
        "id": "guPfIaNfO4KE",
        "colab": {
          "base_uri": "https://localhost:8080/",
          "height": 204
        },
        "outputId": "776a5def-4f3d-426c-cae2-86f89a566eff"
      },
      "source": [
        "# Find C and a:\n",
        "\n",
        "# Using the points (1, 3.0000), (2, 1.0607):\n",
        "\n",
        "a0 = - (np.log10(1.0607) - np.log10(3.0000))/(np.log10(2.0000) - np.log10(1.0000))\n",
        "\n",
        "C0 = 10**(np.log10(3.0000) + a0 * np.log10(1.0000))\n",
        "\n",
        "for i in range(1,11,1):\n",
        "  print(seq1(3.0, 1.5, i))\n",
        "\n",
        "print(\"C =\", C0, \"a =\", a0)"
      ],
      "execution_count": null,
      "outputs": [
        {
          "output_type": "stream",
          "text": [
            "3.0\n",
            "1.0606601717798214\n",
            "0.5773502691896257\n",
            "0.375\n",
            "0.2683281572999748\n",
            "0.2041241452319315\n",
            "0.16198477414681167\n",
            "0.13258252147247768\n",
            "0.1111111111111111\n",
            "0.09486832980505137\n",
            "C = 3.0 a = 1.4999458272324422\n"
          ],
          "name": "stdout"
        }
      ]
    },
    {
      "cell_type": "markdown",
      "metadata": {
        "id": "O4s1jRG3PJx6"
      },
      "source": [
        "We now have approximate values for $C = 3.0$, and for convenience in the next step, $\\alpha = 1.5$. Now, we will use the limit definition $lim_{k\\to \\infty} |\\frac{x_{k+1} - L}{x_{k} - L}|$ to determine the rate of convergence to zero:\n",
        "\n",
        "$lim_{k\\to \\infty} |\\frac{x_{k+1} - L}{x_{k} - L}| = lim_{k\\to \\infty} |\\frac{3\\cdot (x_{k+1})^{-1.5}}{3\\cdot (x_{k})^{-1.5}}| = lim_{k \\to \\infty} |\\frac{(x_{k})^{1.5}}{(x_{k+1})^{1.5}}| = lim_{k \\to \\infty} |\\frac{(x_{k})^{1.5}}{(x_{k+1})^{1.5}}| = lim_{k \\to \\infty} |\\frac{(x_{k})}{(x_{k+1})}|^{0.5}$\n",
        "\n",
        "By the root test of convergence:\n",
        "\n",
        "$lim_{k \\to \\infty} |\\frac{(x_{k})}{(x_{k+1})}|^{0.5} = 0$\n",
        "\n",
        "So thus, from our given definitions, we have that this sequence converges _superlinearly_ to zero."
      ]
    },
    {
      "cell_type": "markdown",
      "metadata": {
        "id": "X1MsMLVds2wu"
      },
      "source": [
        "## Problem 4 - Big O Problem\n",
        "\n",
        "$\\underline{Solution:}$ To verify the limit, plugging in $h = 0$ we have:\n",
        "\n",
        "$\\tfrac{lim}{h \\rightarrow 0} (\\frac{1}{1 - h} - h - 1) = \\frac{1}{1-0} - 0 - 1 = 1 - 1 = 0$.\n",
        "\n",
        "Now, to determine the rate of convergence we may algebraically manipulate:\n",
        "\n",
        "$\\frac{1}{1-h} - h - 1 = \\frac{1}{1-h} - \\frac{h(1-h)}{(1-h)} - \\frac{1-h}{1-h} = \\frac{1 - h(1-h) - 1 + h}{1-h} = \\frac{1 - h + h^2 -1 + h}{1-h}$\n",
        "$= \\frac{h^2}{1-h}$.\n",
        "\n",
        "Now, using O notation we can say that:\n",
        "\n",
        "$lim_{h\\to 0} |\\frac{h^{2}}{\\frac{h^2}{1-h}}| = lim_{h\\to 0} |h^{2}\\cdot \\frac{1-h}{h^2}| = lim_{h\\to 0} |1-h| = 1$.\n",
        "\n",
        "So thus, by definition of what it means for a function to be big O of another function we have that $h^2 = O(\\frac{1}{1 - h} - h - 1)$ and $h^2$ is our rate of convergence."
      ]
    },
    {
      "cell_type": "markdown",
      "metadata": {
        "id": "BA_27B6eSiUB"
      },
      "source": [
        "## Problem 5 - Conditioning Problem"
      ]
    },
    {
      "cell_type": "markdown",
      "metadata": {
        "id": "TZf0OZx5PvXd"
      },
      "source": [
        "Let $f(x) = e^{x} - 1$.\n",
        "\n",
        "### Part a) \n",
        "_What is the relative condition number $\\mathcal{K}_{f(x)}$? Are there any values of $x$ for which this is ill - conditioned?_"
      ]
    },
    {
      "cell_type": "markdown",
      "metadata": {
        "id": "Mo2VQk0vQK0w"
      },
      "source": [
        "$\\underline{Solution:}$ We will look at the relative error, which is given by:\n",
        "\n",
        "$\\mathcal{K}_{f}(x) = lim_{\\epsilon \\to 0} | \\frac{x}{e^{x} - 1}\\cdot e^{x}| = |\\frac{x\\cdot e^{x}}{e^{x} - 1}|$\n",
        "\n",
        "Now we can easily see that as $x$ approaches infinity:\n",
        "\n",
        "$lim_{x\\to \\infty} |\\frac{x\\cdot e^{x}}{e^{x} - 1}|\\ (l'hopital's rule) = lim_{x\\to \\infty} |\\frac{e^{x} + x\\cdot e^{x}}{e^{x}}| = |1+\\infty| = \\infty$\n",
        "\n",
        "This is what we expect for a condition number, as we expect a linear relationship between perturbations in the input values with the output values, however as $x\\to 0$ we get:\n",
        "\n",
        "$lim_{x\\to 0} |\\frac{x\\cdot e^{x}}{e^{x} - 1}|\\ (l'hopital's rule) = lim_{x\\to 0} |\\frac{e^{x} + x\\cdot e^{x}}{e^{x}}| = |1 + 0| = 1$\n",
        "\n",
        "Because of the indeterminate form from using $x = 0$, we have that $f$ is ill conditioned at $x=0$."
      ]
    },
    {
      "cell_type": "markdown",
      "metadata": {
        "id": "OswMkCZhu-fx"
      },
      "source": [
        "### Part b)\n",
        "\n",
        "_Consider Computing $f(x)$ via the following algorithm:\\\n",
        "$1: e^{x} \\to y$\\\n",
        "$2: return\\ y - 1$\\\n",
        "Is this algorithm stable? Justify your answer._"
      ]
    },
    {
      "cell_type": "markdown",
      "metadata": {
        "id": "VvroLWc_wYxt"
      },
      "source": [
        "$\\underline{Solution:}$ We check the conditioning of each step:\n",
        "\n",
        "$\\textbf{Step 1:}\\ \\mathcal{K}_{e^{x}}(x) = |\\frac{x}{e^{x}}\\cdot e^{x}| = |x|$\\\n",
        "$\\textbf{Step 2:}\\ \\mathcal{K}_{x - 1}(x) = |\\frac{x}{x-1}\\cdot (1)| = |\\frac{1}{1 - \\tfrac{1}{x}}|$\n",
        "\n",
        "Conslusion: The algorithm is stable for values greater than and not around $1$, this is because the last step of the algorithm has a condition number that gets smaller and smaller as $x$ approaches infinity while the condition number for the function itself grows as $x$ approaches infinity. We can see this in the plot below:"
      ]
    },
    {
      "cell_type": "code",
      "metadata": {
        "id": "PZdyAZcC0Lyf",
        "colab": {
          "base_uri": "https://localhost:8080/",
          "height": 298
        },
        "outputId": "8712d1a5-7125-4a68-cfd6-ecb9e640c34c"
      },
      "source": [
        "# Plotting the conditioning of the algorithm vs. conditioning of the function f(x):\n",
        "\n",
        "x1 = np.arange(1, 11, 1)\n",
        "\n",
        "def a(x):\n",
        "  value1 = x*math.exp(x)\n",
        "  value2 = math.exp(x)\n",
        "  return abs((value1)/(value2 - 1))\n",
        "\n",
        "a2 = np.vectorize(a)\n",
        "\n",
        "def b(x):\n",
        "  if x != 1:\n",
        "    return abs(1/(1 - 1/(x)))\n",
        "  else:\n",
        "    return 0\n",
        "\n",
        "b2 = np.vectorize(b)\n",
        "\n",
        "aplot = plt.plot(x1, a2(x1), color = \"red\")\n",
        "bplot = plt.plot(x1, b2(x1), color = \"blue\")\n",
        "plt.title(\"Plots of Algorithms a) and b)\")"
      ],
      "execution_count": null,
      "outputs": [
        {
          "output_type": "execute_result",
          "data": {
            "text/plain": [
              "Text(0.5, 1.0, 'Plots of Algorithms a) and b)')"
            ]
          },
          "metadata": {
            "tags": []
          },
          "execution_count": 48
        },
        {
          "output_type": "display_data",
          "data": {
            "image/png": "[encoded data removed]",
            "text/plain": [
              "<Figure size 432x288 with 1 Axes>"
            ]
          },
          "metadata": {
            "tags": [],
            "needs_background": "light"
          }
        }
      ]
    },
    {
      "cell_type": "markdown",
      "metadata": {
        "id": "B048tWBhJT_i"
      },
      "source": [
        "Because of the vertical asymptote at $x = 1$, we cannot say that the algorithm is entirely stable, as values very close to $x = 1$ will result in huge numbers, even by small perturbations so thus near this value the alorithm is ill -conditioned and so the algorithm cannot be stable entirely."
      ]
    },
    {
      "cell_type": "markdown",
      "metadata": {
        "id": "e9oojn9h5j1g"
      },
      "source": [
        "### Part c)\n",
        "\n",
        "_Let $x$ have the value $9.999999995000000 \\times 10^{-10}$, in which case $x$ is equal to $10^{-9}$ up to 16 decimal places. How many correct digits does the algorithm above give you? is this expected?_"
      ]
    },
    {
      "cell_type": "markdown",
      "metadata": {
        "id": "rEvmF_c1676d"
      },
      "source": [
        "$\\underline{Solution:}$ We can plug the value for $x$ into the algorithm implemented in code:"
      ]
    },
    {
      "cell_type": "code",
      "metadata": {
        "id": "402x3CTB7ISj",
        "colab": {
          "base_uri": "https://localhost:8080/",
          "height": 34
        },
        "outputId": "90cf828e-0cbc-4ef8-ca5f-4aa480f9a665"
      },
      "source": [
        "# Alogrithm b)\n",
        "\n",
        "def algorithmB(x):\n",
        "  y = math.exp(x)\n",
        "  return y - 1\n",
        "\n",
        "x1 = 9.999999995000000e-10\n",
        "\n",
        "print(algorithmB(x1), \"Error: \", np.log10(b2(x1)))\n"
      ],
      "execution_count": null,
      "outputs": [
        {
          "output_type": "stream",
          "text": [
            "1.000000082740371e-09 Error:  -8.999999999782853\n"
          ],
          "name": "stdout"
        }
      ]
    },
    {
      "cell_type": "markdown",
      "metadata": {
        "id": "ADKlY1D472pp"
      },
      "source": [
        "Knowing that the correct number is $10^{-9}$ up to $16$ decimal places, we have the correct answer up to only eight decimal places. This is expected as the log base 10 of the relative error suggest that we are to lose almost nine digits."
      ]
    },
    {
      "cell_type": "markdown",
      "metadata": {
        "id": "9707zX2692Z8"
      },
      "source": [
        "### Part d) \n",
        "_Find a polynomial approximation $f(x)$ that is accurate to $16$ digits for all $|x|\\leq 10^{-9}$ and prove your answer._\n"
      ]
    },
    {
      "cell_type": "markdown",
      "metadata": {
        "id": "NceSyMkJBy_j"
      },
      "source": [
        "$\\underline{Solution:}$ We will use the taylor series of $e^{x} - 1$ centered at $x_0 = 0$ to find an effective polynomial approximation:"
      ]
    },
    {
      "cell_type": "code",
      "metadata": {
        "id": "MpJFXcCYKLPI",
        "colab": {
          "base_uri": "https://localhost:8080/",
          "height": 38
        },
        "outputId": "4e656348-08f6-4fcd-e38d-01cecd6048c7"
      },
      "source": [
        "# Taylor series for f(x) = e^x - 1:\n",
        "\n",
        "def f(x):\n",
        "  return math.exp(x) - 1\n",
        "x = sym.Symbol('x')\n",
        "taylor = sym.series(sym.exp(x) - 1, x, x0 = 0, n=2)\n",
        "taylor"
      ],
      "execution_count": null,
      "outputs": [
        {
          "output_type": "execute_result",
          "data": {
            "image/png": "[encoded data removed]",
            "text/latex": "$$x + \\mathcal{O}\\left(x^{2}\\right)$$",
            "text/plain": [
              "     ⎛ 2⎞\n",
              "x + O⎝x ⎠"
            ]
          },
          "metadata": {
            "tags": []
          },
          "execution_count": 4
        }
      ]
    },
    {
      "cell_type": "markdown",
      "metadata": {
        "id": "KXnEyIR-O14G"
      },
      "source": [
        "To find how many terms we will need in the series approximation to get the accuracy to 16 digits for all $|x|\\leq 10^{-9}$, we can use Taylor's Remainder Theorem:\n",
        "\n",
        "$|R_{n}| = |\\frac{f^{(n+1)}(c)}{(n+1)!}\\cdot (x-a)^{n+1}|$\n",
        "\n",
        "_Our proof is as follows:_ We want to find an $n$ large enough so that any value in the interval $(-10^{-9}, 10^{-9})$ is accurate to 16 digits when used in the polynomial.\\\n",
        "We begin by first finding the values needed fo the Taylor remainder theorem. Luckily our function is $f(x) = e^{x} - 1$, so any $nth$ derivative of $f$ will simply be $e^{x}$, thus: $f^{(n+1)}(x) = e^{x}$.\\\n",
        "We also know that our series is centered at $x = 0$, which is appropriate for the interval we wish to have our specified accuracy, so $a = 0$.\\\n",
        "Now we will consider the value $c$, which is contained in the interval $(-10^{-9}, 10^{-9})$ and can be any value in this interval.\\\n",
        "Lastly, we have $n$, which is a number we must choose large enough to guarantee the required digits of precision, in short we must choose $n$ so that:\n",
        "\n",
        "$|\\frac{e^{c}}{(n+1)!}\\cdot x^{n+1}| \\leq 10^{-16}$\n",
        "\n",
        "We know that $c\\in (-10^{-9}, 10^{-9})$, so then $|e^{c}| < e^{10^{-9}} < 1 + 10^{-8}$, additionally we know that $|x^{n+1}| < (10^{-9})^{n+1}$. Now we want to be sure that:\n",
        "\n",
        "$|\\frac{e^{c}}{(n+1)!}\\cdot (10^{-9})| \\leq 10^{-16}$\n",
        "\n",
        "So, with the previous inequalities we may write the following:\n",
        "\n",
        "$|\\frac{e^{c}}{(n+1)!}\\cdot (10^{-9})^{n+1}|\\leq \\frac{1 + 10^{-8}}{(n+1)!}\\cdot (10^{-9})^{n+1}$\n",
        "\n",
        "Now, we still need to be sure that:\n",
        "\n",
        "$\\frac{1 + 10^{-8}}{(n+1)!}\\cdot (10^{-9})^{n+1} \\leq 10^{-16}$\n",
        "\n",
        "So to do this, we will need to choose a value for $n$, we can try $n = 2$:\n",
        "\n",
        "$n=2:\\ \\frac{1 + 10^{-8}}{(3)!}\\cdot (10^{-9})^{3} = 1.66\\times 10^{-25}$\n",
        "\n",
        "So thus with a value of $n = 2$ we were able to guarantee that all $x\\in (-10^{-9}, 10^{-9})$ are accurate to at least up to 16 digits."
      ]
    },
    {
      "cell_type": "markdown",
      "metadata": {
        "id": "NFzG5A1Qw1X2"
      },
      "source": [
        "### Part e)\n",
        "_Evaluate your polynomial approximation at the same value as before. How many digits of precision do you have?_"
      ]
    },
    {
      "cell_type": "markdown",
      "metadata": {
        "id": "6QDotTi60aF6"
      },
      "source": [
        "$\\underline{Solution:}$"
      ]
    },
    {
      "cell_type": "code",
      "metadata": {
        "id": "E9PjTLaexFDn",
        "colab": {
          "base_uri": "https://localhost:8080/",
          "height": 34
        },
        "outputId": "81f9d38b-28c3-493b-d3fa-0b3c8a04a76f"
      },
      "source": [
        "# Evaluating the polynomial:\n",
        "\n",
        "# Original Function:\n",
        "def f(x):\n",
        "  return math.exp(x) - 1\n",
        "\n",
        "# Taylor Approximation:\n",
        "def t(x):\n",
        "  return x + x**2\n",
        "\n",
        "print(\"Original: \", f(9.999999995000000e-10), \"Polynomial: \", t(9.999999995000000e-10))\n"
      ],
      "execution_count": null,
      "outputs": [
        {
          "output_type": "stream",
          "text": [
            "Original:  1.000000082740371e-09 Polynomial:  1.0000000005e-09\n"
          ],
          "name": "stdout"
        }
      ]
    },
    {
      "cell_type": "markdown",
      "metadata": {
        "id": "zV1zBJb6zpDO"
      },
      "source": [
        "Here we have that our approximation is accurate up to 16 digits, and is actually a bit less than the original value. This was expected since we were able to find a value of $n$ large enough in part d) that would guarantee at least 16 digits of precision for our taylor polynomial."
      ]
    }
  ]
}